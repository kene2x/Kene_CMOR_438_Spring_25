{
 "cells": [
  {
   "cell_type": "markdown",
   "metadata": {},
   "source": [
    "## AdaBoost Regression: Predicting the Occurrences of Heart Disease in Patients\n",
    "\n",
    "## What is AdaBoost Regression?\n",
    "\n",
    "**AdaBoost Regression** is a version of AdaBoost used to predict numbers instead of categories. It combines several weak models (usually small decision trees) to make better predictions. Each new model focuses more on the predictions that were far off, trying to fix the big mistakes made by earlier models. In the end, all the models work together to give a final, more accurate result—like a group of guessers learning from each other’s errors to make a smarter guess."
   ]
  },
  {
   "cell_type": "code",
   "execution_count": 6,
   "metadata": {},
   "outputs": [],
   "source": [
    "import numpy as np\n",
    "import pandas as pd\n",
    "import matplotlib.pyplot as plt\n",
    "import seaborn as sns\n",
    "from sklearn.metrics import confusion_matrix, ConfusionMatrixDisplay,mean_squared_error,r2_score\n",
    "from sklearn.model_selection import train_test_split\n",
    "from sklearn.preprocessing import MinMaxScaler,StandardScaler,LabelEncoder\n",
    "from sklearn.metrics import classification_report\n",
    "from sklearn.ensemble import AdaBoostRegressor\n",
    "from sklearn.linear_model import LinearRegression\n",
    "\n",
    "# Set the Seaborn theme\n",
    "sns.set_theme()"
   ]
  },
  {
   "cell_type": "markdown",
   "metadata": {},
   "source": [
    "## Our Task\n",
    "We will be predicting the occurrence of heart disease in patients using **AdaBoost Regression** technique.\n"
   ]
  },
  {
   "cell_type": "markdown",
   "metadata": {},
   "source": [
    "##  Load and Preprocess the Hearts Dataset\n",
    "We will use the `hearts` dataset and classify a patient as either **Has Heart Disease**(label=1) or **Does not have Heart Disease**(label=0)\n",
    "\n",
    "We'll also drop any rows with missing values.\n",
    "\n",
    "## Normalize and Prepare Features\n",
    "Logistic regression works best when the input features are on a similar scale. We'll normalize the features to have mean 0 and standard deviation 1."
   ]
  },
  {
   "cell_type": "code",
   "execution_count": 7,
   "metadata": {},
   "outputs": [
    {
     "data": {
      "text/plain": [
       "<bound method NDFrame.head of           Age  Sex  ChestPainType  RestingBP  Cholesterol  FastingBS  \\\n",
       "0   -1.433140    1              1   0.410909     0.825070          0   \n",
       "1   -0.478484    0              2   1.491752    -0.171961          0   \n",
       "2   -1.751359    1              1  -0.129513     0.770188          0   \n",
       "3   -0.584556    0              0   0.302825     0.139040          0   \n",
       "4    0.051881    1              2   0.951331    -0.034755          0   \n",
       "..        ...  ...            ...        ...          ...        ...   \n",
       "913 -0.902775    1              3  -1.210356     0.596393          0   \n",
       "914  1.536902    1              0   0.627078    -0.053049          1   \n",
       "915  0.370100    1              0  -0.129513    -0.620168          0   \n",
       "916  0.370100    0              1  -0.129513     0.340275          0   \n",
       "917 -1.645286    1              2   0.302825    -0.217696          0   \n",
       "\n",
       "     RestingECG     MaxHR  ExerciseAngina   Oldpeak  ST_Slope  HeartDisease  \n",
       "0             1  1.382928               0  0.295455         2             0  \n",
       "1             1  0.754157               0  0.409091         1             1  \n",
       "2             2 -1.525138               0  0.295455         2             0  \n",
       "3             1 -1.132156               1  0.465909         1             1  \n",
       "4             1 -0.581981               0  0.295455         2             0  \n",
       "..          ...       ...             ...       ...       ...           ...  \n",
       "913           1 -0.188999               0  0.431818         1             1  \n",
       "914           1  0.164684               0  0.681818         1             1  \n",
       "915           1 -0.857069               1  0.431818         1             1  \n",
       "916           0  1.461525               0  0.295455         1             1  \n",
       "917           1  1.422226               0  0.295455         2             0  \n",
       "\n",
       "[918 rows x 12 columns]>"
      ]
     },
     "execution_count": 7,
     "metadata": {},
     "output_type": "execute_result"
    }
   ],
   "source": [
    "# Load and process the heart dataset \n",
    "data = pd.read_csv(\"heart.csv\")\n",
    "hearts = data.copy(deep = True)\n",
    "\n",
    "le = LabelEncoder()#Label Encoding\n",
    "\n",
    "#Label Encode all Categorical data\n",
    "hearts['Sex'] = le.fit_transform(hearts['Sex'])\n",
    "hearts['ChestPainType'] = le.fit_transform(hearts['ChestPainType'])\n",
    "hearts['RestingECG'] = le.fit_transform(hearts['RestingECG'])\n",
    "hearts['ExerciseAngina'] = le.fit_transform(hearts['ExerciseAngina'])\n",
    "hearts['ST_Slope'] = le.fit_transform(hearts['ST_Slope'])\n",
    "\n",
    "mms = MinMaxScaler() # Normalization\n",
    "ss = StandardScaler() # Standardization\n",
    "\n",
    "#Normalize Oldpeak and Standardize the rest of the numerical data\n",
    "hearts['Oldpeak'] = mms.fit_transform(hearts[['Oldpeak']])\n",
    "hearts['Age'] = ss.fit_transform(hearts[['Age']])\n",
    "hearts['RestingBP'] = ss.fit_transform(hearts[['RestingBP']])\n",
    "hearts['Cholesterol'] = ss.fit_transform(hearts[['Cholesterol']])\n",
    "hearts['MaxHR'] = ss.fit_transform(hearts[['MaxHR']])\n",
    "hearts.head"
   ]
  },
  {
   "cell_type": "markdown",
   "metadata": {},
   "source": [
    "# Features Selection\n",
    "To better understand why we selected these specific features for classification, read the **Perceptron_hearts** file.\n",
    "\n",
    "We'll select the \"Age\", \"Oldpeak\", \"MaxHR\", \"ST_Slope\", \"ExerciseAngina\", \"Sex\",\"ChestPainType\",\"Cholesterol\", and \"FastingBS\" for classification."
   ]
  },
  {
   "cell_type": "code",
   "execution_count": 8,
   "metadata": {},
   "outputs": [],
   "source": [
    "features = [\n",
    "    \"Age\", \"Oldpeak\", \"MaxHR\", \"ST_Slope\", \"ExerciseAngina\", \"Sex\", \"HeartDisease\",\"ChestPainType\",\"Cholesterol\",\"FastingBS\"\n",
    "]\n",
    "filtered_df= hearts[features].reset_index(drop=True)\n",
    "X = filtered_df[filtered_df.columns.drop(['HeartDisease'])].values\n",
    "y = filtered_df['HeartDisease'].values"
   ]
  },
  {
   "cell_type": "markdown",
   "metadata": {},
   "source": [
    "## Splitting Data into Training and Test Sets\n",
    "\n",
    "We split our dataset into training and testing sets to evaluate model performance later."
   ]
  },
  {
   "cell_type": "code",
   "execution_count": 9,
   "metadata": {},
   "outputs": [],
   "source": [
    "#Split data into test and trainung data\n",
    "X_train, X_test, y_train, y_test = train_test_split(X, y, test_size=0.2, random_state=42)"
   ]
  },
  {
   "cell_type": "markdown",
   "metadata": {},
   "source": [
    "## AdaBoost Regression Implementation\n",
    "We will implement the **AdaBoost Regression** technique using the **AdaBoostRegressor** from the **sklearn.ensemble** module and the **LinearRegression** from **sklearn.linear_model** \n",
    "\n",
    "Here we train our model and predict using the test values"
   ]
  },
  {
   "cell_type": "code",
   "execution_count": 10,
   "metadata": {},
   "outputs": [],
   "source": [
    "# Create and train AdaBoost regressor\n",
    "ada_reg = AdaBoostRegressor(\n",
    "    LinearRegression(),\n",
    "    n_estimators=50,\n",
    "    learning_rate=0.1,\n",
    "    random_state=42\n",
    ")\n",
    "ada_reg.fit(X_train, y_train)\n",
    "\n",
    "# Make predictions\n",
    "ada_y_pred = ada_reg.predict(X_test)"
   ]
  },
  {
   "cell_type": "markdown",
   "metadata": {},
   "source": [
    "## Evaluate the Model Accuracy\n",
    "\n",
    "Here we plot a confusion matrix and give a classification report on the model."
   ]
  },
  {
   "cell_type": "code",
   "execution_count": 15,
   "metadata": {},
   "outputs": [
    {
     "data": {
      "image/png": "[encoded data removed]",
      "text/plain": [
       "<Figure size 600x500 with 2 Axes>"
      ]
     },
     "metadata": {},
     "output_type": "display_data"
    },
    {
     "name": "stdout",
     "output_type": "stream",
     "text": [
      "Classification Report:\n",
      "              precision    recall  f1-score   support\n",
      "\n",
      "  No Disease       0.76      0.88      0.82        77\n",
      "     Disease       0.91      0.80      0.85       107\n",
      "\n",
      "    accuracy                           0.84       184\n",
      "   macro avg       0.83      0.84      0.84       184\n",
      "weighted avg       0.85      0.84      0.84       184\n",
      "\n"
     ]
    }
   ],
   "source": [
    "y_pred=ada_y_pred\n",
    "y_pred = (y_pred >= 0.5).astype(int)\n",
    "# Confusion Matrix\n",
    "cm = confusion_matrix(y_test, y_pred)\n",
    "plt.figure(figsize=(6, 5))\n",
    "sns.heatmap(cm, annot=True, fmt='d', cmap='Blues', xticklabels=['No Disease', 'Disease'], yticklabels=['No Disease', 'Disease'])\n",
    "plt.xlabel('Predicted Label')\n",
    "plt.ylabel('True Label')\n",
    "plt.title('Confusion Matrix')\n",
    "plt.show()\n",
    "\n",
    "# Classification Report\n",
    "print(\"Classification Report:\")\n",
    "print(classification_report(y_test, y_pred, target_names=['No Disease', 'Disease']))"
   ]
  },
  {
   "cell_type": "markdown",
   "metadata": {},
   "source": [
    "## Evaluate MSE"
   ]
  },
  {
   "cell_type": "code",
   "execution_count": 16,
   "metadata": {},
   "outputs": [
    {
     "name": "stdout",
     "output_type": "stream",
     "text": [
      "Mean Squared Error: 0.1360\n",
      "R² Score: 0.4410\n"
     ]
    }
   ],
   "source": [
    "# Calculate metrics\n",
    "mse = mean_squared_error(y_test, ada_y_pred)\n",
    "r2 = r2_score(y_test, ada_y_pred)\n",
    "\n",
    "print(f\"Mean Squared Error: {mse:.4f}\")\n",
    "print(f\"R² Score: {r2:.4f}\")"
   ]
  }
 ],
 "metadata": {
  "kernelspec": {
   "display_name": "base",
   "language": "python",
   "name": "python3"
  },
  "language_info": {
   "codemirror_mode": {
    "name": "ipython",
    "version": 3
   },
   "file_extension": ".py",
   "mimetype": "text/x-python",
   "name": "python",
   "nbconvert_exporter": "python",
   "pygments_lexer": "ipython3",
   "version": "3.12.7"
  }
 },
 "nbformat": 4,
 "nbformat_minor": 2
}
