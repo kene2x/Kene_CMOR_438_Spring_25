{
 "cells": [
  {
   "cell_type": "markdown",
   "id": "16c05c56",
   "metadata": {},
   "source": [
    "# Logistic Regression with a Single Neuron\n",
    "In this notebook, we implement **Logistic Regression** using a custom-built **SingleNeuron** class.\n",
    "\n",
    "Logistic regression is a classification algorithm used to predict the **probability** that a given input belongs to a specific class.\n",
    "Instead of producing continuous values like linear regression, it produces a value between 0 and 1 by passing the result of a linear equation through the **sigmoid function**:\n",
    "$$ \\sigma(z) = \\frac{1}{1 + e^{-z}} $$\n",
    "\n",
    "This value can be interpreted as a probability, and we assign class labels (0 or 1) based on a threshold (commonly 0.5)."
   ]
  },
  {
   "cell_type": "code",
   "execution_count": 17,
   "id": "9d136cd9",
   "metadata": {},
   "outputs": [],
   "source": [
    "import numpy as np\n",
    "import pandas as pd\n",
    "import matplotlib.pyplot as plt\n",
    "import seaborn as sns\n",
    "from sklearn.metrics import accuracy_score, confusion_matrix, ConfusionMatrixDisplay\n",
    "from sklearn.model_selection import train_test_split\n",
    "from sklearn.preprocessing import MinMaxScaler,StandardScaler,LabelEncoder\n",
    "from mlxtend.plotting import plot_decision_regions\n",
    "from sklearn.feature_selection import SelectKBest\n",
    "from sklearn.feature_selection import chi2\n",
    "from sklearn.metrics import confusion_matrix, ConfusionMatrixDisplay\n",
    "from sklearn.metrics import classification_report"
   ]
  },
  {
   "cell_type": "markdown",
   "id": "9d2f5470",
   "metadata": {},
   "source": [
    "##  Load and Preprocess the Hearts Dataset\n",
    "We will use the `hearts` dataset and classify a patient as either **Has Heart Disease**(label=1) or **Does not have Heart Disease**(label=0)\n",
    "\n",
    "We'll also drop any rows with missing values.\n",
    "\n",
    "## Normalize and Prepare Features\n",
    "Logistic regression works best when the input features are on a similar scale. We'll normalize the features to have mean 0 and standard deviation 1."
   ]
  },
  {
   "cell_type": "code",
   "execution_count": null,
   "id": "c6a4c74b",
   "metadata": {},
   "outputs": [
    {
     "data": {
      "text/plain": [
       "<bound method NDFrame.head of           Age  Sex  ChestPainType  RestingBP  Cholesterol  FastingBS  \\\n",
       "0   -1.433140    1              1   0.410909     0.825070          0   \n",
       "1   -0.478484    0              2   1.491752    -0.171961          0   \n",
       "2   -1.751359    1              1  -0.129513     0.770188          0   \n",
       "3   -0.584556    0              0   0.302825     0.139040          0   \n",
       "4    0.051881    1              2   0.951331    -0.034755          0   \n",
       "..        ...  ...            ...        ...          ...        ...   \n",
       "913 -0.902775    1              3  -1.210356     0.596393          0   \n",
       "914  1.536902    1              0   0.627078    -0.053049          1   \n",
       "915  0.370100    1              0  -0.129513    -0.620168          0   \n",
       "916  0.370100    0              1  -0.129513     0.340275          0   \n",
       "917 -1.645286    1              2   0.302825    -0.217696          0   \n",
       "\n",
       "     RestingECG     MaxHR  ExerciseAngina   Oldpeak  ST_Slope  HeartDisease  \n",
       "0             1  1.382928               0  0.295455         2             0  \n",
       "1             1  0.754157               0  0.409091         1             1  \n",
       "2             2 -1.525138               0  0.295455         2             0  \n",
       "3             1 -1.132156               1  0.465909         1             1  \n",
       "4             1 -0.581981               0  0.295455         2             0  \n",
       "..          ...       ...             ...       ...       ...           ...  \n",
       "913           1 -0.188999               0  0.431818         1             1  \n",
       "914           1  0.164684               0  0.681818         1             1  \n",
       "915           1 -0.857069               1  0.431818         1             1  \n",
       "916           0  1.461525               0  0.295455         1             1  \n",
       "917           1  1.422226               0  0.295455         2             0  \n",
       "\n",
       "[918 rows x 12 columns]>"
      ]
     },
     "execution_count": 2,
     "metadata": {},
     "output_type": "execute_result"
    }
   ],
   "source": [
    "# Load and process the heart dataset \n",
    "data = pd.read_csv(\"/Users/kene_2x/Desktop/CMOR 438: DS and Machine Learning/Untitled/Kene_CMOR_438_Spring_25/data/heart.csv\")\n",
    "hearts = data.copy(deep = True)\n",
    "\n",
    "le = LabelEncoder()#Label Encoding\n",
    "\n",
    "#Label Encode all Categorical data\n",
    "hearts['Sex'] = le.fit_transform(hearts['Sex'])\n",
    "hearts['ChestPainType'] = le.fit_transform(hearts['ChestPainType'])\n",
    "hearts['RestingECG'] = le.fit_transform(hearts['RestingECG'])\n",
    "hearts['ExerciseAngina'] = le.fit_transform(hearts['ExerciseAngina'])\n",
    "hearts['ST_Slope'] = le.fit_transform(hearts['ST_Slope'])\n",
    "\n",
    "mms = MinMaxScaler() # Normalization\n",
    "ss = StandardScaler() # Standardization\n",
    "\n",
    "#Normalize Oldpeak and Standardize the rest of the numerical data\n",
    "hearts['Oldpeak'] = mms.fit_transform(hearts[['Oldpeak']])\n",
    "hearts['Age'] = ss.fit_transform(hearts[['Age']])\n",
    "hearts['RestingBP'] = ss.fit_transform(hearts[['RestingBP']])\n",
    "hearts['Cholesterol'] = ss.fit_transform(hearts[['Cholesterol']])\n",
    "hearts['MaxHR'] = ss.fit_transform(hearts[['MaxHR']])\n",
    "hearts.head"
   ]
  },
  {
   "cell_type": "markdown",
   "id": "78f14671",
   "metadata": {},
   "source": [
    "# Features Selection\n",
    "To better understand why we selected these specific features for classification, read the **Perceptron_hearts** file.\n",
    "\n",
    "We'll select the \"Age\", \"Oldpeak\", \"MaxHR\", \"ST_Slope\", \"ExerciseAngina\", \"Sex\",\"ChestPainType\",\"Cholesterol\", and \"FastingBS\" for classification.\n"
   ]
  },
  {
   "cell_type": "code",
   "execution_count": 3,
   "id": "d662dcb2",
   "metadata": {},
   "outputs": [],
   "source": [
    "features = [\n",
    "    \"Age\", \"Oldpeak\", \"MaxHR\", \"ST_Slope\", \"ExerciseAngina\", \"Sex\", \"HeartDisease\",\"ChestPainType\",\"Cholesterol\",\"FastingBS\"\n",
    "]\n",
    "filtered_df= hearts[features].reset_index(drop=True)\n",
    "X = filtered_df[filtered_df.columns.drop(['HeartDisease'])].values\n",
    "y = filtered_df['HeartDisease'].values"
   ]
  },
  {
   "cell_type": "markdown",
   "id": "bfb66495",
   "metadata": {},
   "source": [
    "## Split Dataset into Training and Testing Sets\n",
    "This cell splits the dataset into training and testing subsets using an 80/20 split."
   ]
  },
  {
   "cell_type": "code",
   "execution_count": 7,
   "id": "6c8f55f4",
   "metadata": {},
   "outputs": [],
   "source": [
    "#Split data into test and trainung data\n",
    "X_train, X_test, y_train, y_test = train_test_split(X, y, test_size=0.2, random_state=42)"
   ]
  },
  {
   "cell_type": "markdown",
   "id": "ae7a0773",
   "metadata": {},
   "source": [
    "## Define Sigmoid Function and Cross-Entropy Loss\n",
    "The **sigmoid function** squashes input values between 0 and 1, making it perfect for binary classification.\n",
    "\n",
    "The **cross-entropy loss** function measures how far off a prediction is from the true label. It's commonly used for classification tasks."
   ]
  },
  {
   "cell_type": "code",
   "execution_count": 8,
   "id": "5acda3f4",
   "metadata": {},
   "outputs": [],
   "source": [
    "def sigmoid(z):\n",
    "\treturn 1.0 / (1.0 + np.exp(-z))\n",
    "\n",
    "def cross_entropy(y_hat, y):\n",
    "\treturn - y*np.log(y_hat) - (1 - y)*np.log(1 - y_hat)"
   ]
  },
  {
   "cell_type": "markdown",
   "id": "222eb6be",
   "metadata": {},
   "source": [
    "## Build and Train the SingleNeuron Class\n",
    "We now use a single neuron with sigmoid activation and cross-entropy loss to learn the classification boundary."
   ]
  },
  {
   "cell_type": "code",
   "execution_count": 9,
   "id": "d3c87e0a",
   "metadata": {},
   "outputs": [],
   "source": [
    "class SingleNeuron(object):\n",
    "\tdef __init__(self, activation_function, cost_function):\n",
    "\t\tself.activation_function = activation_function\n",
    "\t\tself.cost_function = cost_function\n",
    "\n",
    "\tdef train(self, X, y, alpha = 0.005, epochs = 50):\n",
    "\t\tself.w_ = np.random.rand(1 + X.shape[1])\n",
    "\t\tself.errors_ = []\n",
    "\t\tN = X.shape[0]\n",
    "\n",
    "\t\tfor _ in range(epochs):\n",
    "\t\t\terrors = 0\n",
    "\t\t\tfor xi, target in zip(X, y):\n",
    "\t\t\t\terror = (self.predict(xi) - target)\n",
    "\t\t\t\tself.w_[:-1] -= alpha*error*xi\n",
    "\t\t\t\tself.w_[-1] -= alpha*error\n",
    "\t\t\t\terrors += self.cost_function(self.predict(xi), target)\n",
    "\t\t\tself.errors_.append(errors/N)\n",
    "\t\treturn self\n",
    "\n",
    "\tdef predict(self, X):\n",
    "\t\tpreactivation = np.dot(X, self.w_[:-1]) + self.w_[-1]\n",
    "\t\treturn self.activation_function(preactivation)"
   ]
  },
  {
   "cell_type": "markdown",
   "id": "5c99ef57",
   "metadata": {},
   "source": [
    "## Train the Model"
   ]
  },
  {
   "cell_type": "code",
   "execution_count": 10,
   "id": "302b8062",
   "metadata": {},
   "outputs": [
    {
     "data": {
      "text/plain": [
       "<__main__.SingleNeuron at 0x143da8a10>"
      ]
     },
     "execution_count": 10,
     "metadata": {},
     "output_type": "execute_result"
    }
   ],
   "source": [
    "# Set the Seaborn theme\n",
    "sns.set_theme()\n",
    "\n",
    "# Instantiate and train the logistic regression model\n",
    "neuron = SingleNeuron(activation_function=sigmoid, cost_function=cross_entropy)\n",
    "neuron.train(X_train, y_train, epochs=1000)"
   ]
  },
  {
   "cell_type": "markdown",
   "id": "825ff7b0",
   "metadata": {},
   "source": [
    "## Plot Training Loss Over Time"
   ]
  },
  {
   "cell_type": "code",
   "execution_count": 11,
   "id": "abb6220c",
   "metadata": {},
   "outputs": [
    {
     "data": {
      "image/png": "[encoded data removed]",
      "text/plain": [
       "<Figure size 640x480 with 1 Axes>"
      ]
     },
     "metadata": {},
     "output_type": "display_data"
    }
   ],
   "source": [
    "plt.plot(neuron.errors_)\n",
    "plt.title('Training Loss over Epochs')\n",
    "plt.xlabel('Epoch')\n",
    "plt.ylabel('Average Cross-Entropy Loss')\n",
    "plt.grid(True)\n",
    "plt.show()"
   ]
  },
  {
   "cell_type": "markdown",
   "id": "ec76ff65",
   "metadata": {},
   "source": [
    "## Evaluate Model Performance"
   ]
  },
  {
   "cell_type": "code",
   "execution_count": 14,
   "id": "d4a9aa3d",
   "metadata": {},
   "outputs": [
    {
     "name": "stdout",
     "output_type": "stream",
     "text": [
      "Classification Error = 0.15760869565217392\n"
     ]
    }
   ],
   "source": [
    "y_hat = np.where(neuron.predict(X_test) >= 0.5, 1, 0)\n",
    "np.rint(y_hat) != y_test\n",
    "classification_error = (np.rint(y_hat) != y_test).astype(int)\n",
    "print(f\"Classification Error = {sum(classification_error)/ len(y_test)}\")"
   ]
  },
  {
   "cell_type": "code",
   "execution_count": 18,
   "id": "97f4a8c3",
   "metadata": {},
   "outputs": [
    {
     "data": {
      "image/png": "[encoded data removed]",
      "text/plain": [
       "<Figure size 640x480 with 2 Axes>"
      ]
     },
     "metadata": {},
     "output_type": "display_data"
    },
    {
     "name": "stdout",
     "output_type": "stream",
     "text": [
      "Classification Report:\n",
      "\n",
      "               precision    recall  f1-score   support\n",
      "\n",
      "   No Disease       0.77      0.88      0.82        77\n",
      "Heart Disease       0.91      0.81      0.86       107\n",
      "\n",
      "     accuracy                           0.84       184\n",
      "    macro avg       0.84      0.85      0.84       184\n",
      " weighted avg       0.85      0.84      0.84       184\n",
      "\n"
     ]
    }
   ],
   "source": [
    "# Ensure labels are binary: 0 and 1\n",
    "y_true_binary = np.where(y_test == -1, 0, y_test) if -1 in y_test else y_test\n",
    "y_pred_binary = np.where(y_hat == -1, 0, y_hat) if -1 in y_hat else y_hat\n",
    "\n",
    "# Compute confusion matrix\n",
    "cm = confusion_matrix(y_true_binary, y_pred_binary)\n",
    "disp = ConfusionMatrixDisplay(confusion_matrix=cm, display_labels=[\"No Disease\", \"Heart Disease\"])\n",
    "\n",
    "# Plot\n",
    "disp.plot(cmap='Blues')\n",
    "plt.title(\"Confusion Matrix\")\n",
    "plt.show()\n",
    "\n",
    "\n",
    "\n",
    "# Ensure ground truth is 0/1\n",
    "y_true_binary = np.where(y_test == -1, 0, y_test)\n",
    "\n",
    "# Convert predicted probabilities to binary labels\n",
    "y_pred_binary = (y_hat >= 0.5).astype(int)\n",
    "\n",
    "# Generate classification report\n",
    "report = classification_report(y_true_binary, y_pred_binary, target_names=[\"No Disease\", \"Heart Disease\"])\n",
    "\n",
    "# Print the report\n",
    "print(\"Classification Report:\\n\")\n",
    "print(report)\n"
   ]
  },
  {
   "cell_type": "markdown",
   "id": "9ce088d2",
   "metadata": {},
   "source": [
    "As we can see, our implementation has an accuracy of about 84% and the training loss over epochs goes down to a minimum of about 0.35. Our classification is mostly accurate."
   ]
  },
  {
   "cell_type": "markdown",
   "id": "f12f3afd",
   "metadata": {},
   "source": [
    "## Conclusion\n",
    "- Logistic Regression is a powerful yet interpretable model for binary classification.\n",
    "- The model converged well and made mostly accurate predictions determining if a patient had or didnt have heart disease.\n",
    "- We trained it from scratch using gradient descent and monitored its learning using cross-entropy loss."
   ]
  }
 ],
 "metadata": {
  "kernelspec": {
   "display_name": "base",
   "language": "python",
   "name": "python3"
  },
  "language_info": {
   "codemirror_mode": {
    "name": "ipython",
    "version": 3
   },
   "file_extension": ".py",
   "mimetype": "text/x-python",
   "name": "python",
   "nbconvert_exporter": "python",
   "pygments_lexer": "ipython3",
   "version": "3.12.7"
  }
 },
 "nbformat": 4,
 "nbformat_minor": 5
}
