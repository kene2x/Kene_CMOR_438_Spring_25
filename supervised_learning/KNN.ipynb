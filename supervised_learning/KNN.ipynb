{
 "cells": [
  {
   "cell_type": "code",
   "execution_count": 1,
   "metadata": {},
   "outputs": [],
   "source": [
    "import numpy as np\n",
    "import pandas as pd\n",
    "import matplotlib.pyplot as plt\n",
    "import seaborn as sns\n",
    "from sklearn.metrics import accuracy_score, confusion_matrix, ConfusionMatrixDisplay,mean_squared_error\n",
    "from sklearn.model_selection import train_test_split\n",
    "from sklearn.preprocessing import MinMaxScaler,StandardScaler,LabelEncoder\n",
    "from mlxtend.plotting import plot_decision_regions\n",
    "from sklearn.metrics import classification_report\n",
    "import heapq"
   ]
  },
  {
   "cell_type": "code",
   "execution_count": 2,
   "metadata": {},
   "outputs": [
    {
     "data": {
      "text/plain": [
       "<bound method NDFrame.head of           Age  Sex  ChestPainType  RestingBP  Cholesterol  FastingBS  \\\n",
       "0   -1.433140    1              1   0.410909     0.825070          0   \n",
       "1   -0.478484    0              2   1.491752    -0.171961          0   \n",
       "2   -1.751359    1              1  -0.129513     0.770188          0   \n",
       "3   -0.584556    0              0   0.302825     0.139040          0   \n",
       "4    0.051881    1              2   0.951331    -0.034755          0   \n",
       "..        ...  ...            ...        ...          ...        ...   \n",
       "913 -0.902775    1              3  -1.210356     0.596393          0   \n",
       "914  1.536902    1              0   0.627078    -0.053049          1   \n",
       "915  0.370100    1              0  -0.129513    -0.620168          0   \n",
       "916  0.370100    0              1  -0.129513     0.340275          0   \n",
       "917 -1.645286    1              2   0.302825    -0.217696          0   \n",
       "\n",
       "     RestingECG     MaxHR  ExerciseAngina   Oldpeak  ST_Slope  HeartDisease  \n",
       "0             1  1.382928               0  0.295455         2             0  \n",
       "1             1  0.754157               0  0.409091         1             1  \n",
       "2             2 -1.525138               0  0.295455         2             0  \n",
       "3             1 -1.132156               1  0.465909         1             1  \n",
       "4             1 -0.581981               0  0.295455         2             0  \n",
       "..          ...       ...             ...       ...       ...           ...  \n",
       "913           1 -0.188999               0  0.431818         1             1  \n",
       "914           1  0.164684               0  0.681818         1             1  \n",
       "915           1 -0.857069               1  0.431818         1             1  \n",
       "916           0  1.461525               0  0.295455         1             1  \n",
       "917           1  1.422226               0  0.295455         2             0  \n",
       "\n",
       "[918 rows x 12 columns]>"
      ]
     },
     "execution_count": 2,
     "metadata": {},
     "output_type": "execute_result"
    }
   ],
   "source": [
    "# Load and process the heart dataset \n",
    "data = pd.read_csv(\"heart.csv\")\n",
    "hearts = data.copy(deep = True)\n",
    "\n",
    "le = LabelEncoder()#Label Encoding\n",
    "\n",
    "#Label Encode all Categorical data\n",
    "hearts['Sex'] = le.fit_transform(hearts['Sex'])\n",
    "hearts['ChestPainType'] = le.fit_transform(hearts['ChestPainType'])\n",
    "hearts['RestingECG'] = le.fit_transform(hearts['RestingECG'])\n",
    "hearts['ExerciseAngina'] = le.fit_transform(hearts['ExerciseAngina'])\n",
    "hearts['ST_Slope'] = le.fit_transform(hearts['ST_Slope'])\n",
    "\n",
    "mms = MinMaxScaler() # Normalization\n",
    "ss = StandardScaler() # Standardization\n",
    "\n",
    "#Normalize Oldpeak and Standardize the rest of the numerical data\n",
    "hearts['Oldpeak'] = mms.fit_transform(hearts[['Oldpeak']])\n",
    "hearts['Age'] = ss.fit_transform(hearts[['Age']])\n",
    "hearts['RestingBP'] = ss.fit_transform(hearts[['RestingBP']])\n",
    "hearts['Cholesterol'] = ss.fit_transform(hearts[['Cholesterol']])\n",
    "hearts['MaxHR'] = ss.fit_transform(hearts[['MaxHR']])\n",
    "hearts.head"
   ]
  },
  {
   "cell_type": "code",
   "execution_count": 3,
   "metadata": {},
   "outputs": [],
   "source": [
    "features = [\n",
    "    \"Age\", \"Oldpeak\", \"MaxHR\", \"ST_Slope\", \"ExerciseAngina\", \"Sex\", \"HeartDisease\",\"ChestPainType\",\"Cholesterol\",\"FastingBS\"\n",
    "]\n",
    "filtered_df= hearts[features].reset_index(drop=True)\n",
    "X = filtered_df[filtered_df.columns.drop(['HeartDisease'])].values\n",
    "y = filtered_df['HeartDisease'].values"
   ]
  },
  {
   "cell_type": "code",
   "execution_count": 4,
   "metadata": {},
   "outputs": [],
   "source": [
    "#Split data into test and trainung data\n",
    "X_train, X_test, y_train, y_test = train_test_split(X, y, test_size=0.2, random_state=42)"
   ]
  },
  {
   "cell_type": "code",
   "execution_count": 5,
   "metadata": {},
   "outputs": [],
   "source": [
    "def distance(p, q):\n",
    "    return np.linalg.norm(p - q)\n",
    "\t\n",
    "def k_nearest_neighbors(point, training_features, training_labels, k):\n",
    "\t# Max-heap to store the k closest neighbors\n",
    "\theap = []\n",
    "\n",
    "\ti = 0\n",
    "\tfor p, label in zip(training_features, training_labels):\n",
    "\t\t# print(p)\n",
    "\t\td = distance(point, p)\n",
    "\t\t# Use -d to simulate a max-heap (since heapq is min-heap by default)\n",
    "\t\tif len(heap) < k:\n",
    "\t\t\theapq.heappush(heap, (-d, i, label, 1))\n",
    "\t\telse:\n",
    "\t\t\theapq.heappush(heap, (-d, i, label, 1))\n",
    "\t\t\theapq.heappop(heap)\n",
    "\t\ti+=1\n",
    "\t# Convert back to (point, label, distance) format\n",
    "\treturn [(p, label, -neg_d) for (neg_d, i, label, p) in heap]\n",
    "\n",
    "\n",
    "\n",
    "def KNN_Predict(point,\n",
    "\t\t\t\ttraining_features,\n",
    "\t\t\t\ttraining_labels,\n",
    "\t\t\t\tk,\n",
    "\t\t\t\tregression = False):\n",
    "\tneighbors = k_nearest_neighbors(point,\n",
    "\t\t\t\t\t\t\t\t   training_features,\n",
    "\t\t\t\t\t\t\t\t   training_labels,\n",
    "\t\t\t\t\t\t\t\t   k)\n",
    "\t\n",
    "\tif regression == False:\n",
    "\t\tlabels = [x[1] for x in neighbors]\n",
    "\t\treturn max(labels, key = labels.count)\n",
    "\t\n",
    "\telse:\n",
    "\t\treturn sum(x[1] for x in neighbors)/k"
   ]
  },
  {
   "cell_type": "code",
   "execution_count": 11,
   "metadata": {},
   "outputs": [],
   "source": [
    "# Make predictions\n",
    "k=3# number of neighbors to consider\n",
    "y_pred = np.array([KNN_Predict(x, X_train, y_train, k, regression=True) for x in X_test])"
   ]
  },
  {
   "cell_type": "code",
   "execution_count": 14,
   "id": "64f99ff9",
   "metadata": {},
   "outputs": [
    {
     "data": {
      "image/png": "[encoded data removed]",
      "text/plain": [
       "<Figure size 600x500 with 2 Axes>"
      ]
     },
     "metadata": {},
     "output_type": "display_data"
    },
    {
     "name": "stdout",
     "output_type": "stream",
     "text": [
      "Classification Report:\n",
      "              precision    recall  f1-score   support\n",
      "\n",
      "  No Disease       0.77      0.87      0.82        77\n",
      "     Disease       0.90      0.81      0.85       107\n",
      "\n",
      "    accuracy                           0.84       184\n",
      "   macro avg       0.83      0.84      0.84       184\n",
      "weighted avg       0.84      0.84      0.84       184\n",
      "\n"
     ]
    }
   ],
   "source": [
    "y_pred_class = (y_pred >= 0.5).astype(int)\n",
    "# Confusion Matrix\n",
    "cm = confusion_matrix(y_test, y_pred_class)\n",
    "plt.figure(figsize=(6, 5))\n",
    "sns.heatmap(cm, annot=True, fmt='d', cmap='Blues', xticklabels=['No Disease', 'Disease'], yticklabels=['No Disease', 'Disease'])\n",
    "plt.xlabel('Predicted Label')\n",
    "plt.ylabel('True Label')\n",
    "plt.title('Confusion Matrix')\n",
    "plt.show()\n",
    "\n",
    "# Classification Report\n",
    "print(\"Classification Report:\")\n",
    "print(classification_report(y_test, y_pred_class, target_names=['No Disease', 'Disease']))\n"
   ]
  },
  {
   "cell_type": "code",
   "execution_count": 13,
   "metadata": {},
   "outputs": [
    {
     "name": "stdout",
     "output_type": "stream",
     "text": [
      "Mean Squared Error: 0.1630\n"
     ]
    }
   ],
   "source": [
    "# Compute MSE\n",
    "mse = mean_squared_error(y_test, y_pred_class)\n",
    "\n",
    "print(f\"Mean Squared Error: {mse:.4f}\")"
   ]
  }
 ],
 "metadata": {
  "kernelspec": {
   "display_name": "base",
   "language": "python",
   "name": "python3"
  },
  "language_info": {
   "codemirror_mode": {
    "name": "ipython",
    "version": 3
   },
   "file_extension": ".py",
   "mimetype": "text/x-python",
   "name": "python",
   "nbconvert_exporter": "python",
   "pygments_lexer": "ipython3",
   "version": "3.12.7"
  }
 },
 "nbformat": 4,
 "nbformat_minor": 2
}
