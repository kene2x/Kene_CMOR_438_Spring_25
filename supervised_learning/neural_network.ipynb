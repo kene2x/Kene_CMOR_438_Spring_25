{
 "cells": [
  {
   "cell_type": "markdown",
   "metadata": {},
   "source": [
    "## Neural Network: Predicting the Occurrence of Heart Disease in Patients\n",
    "\n",
    "## What is a Neural Network?\n",
    "A Neural Network is a type of computer program that tries to learn patterns from data, kind of like how our brains learn. It’s made up of layers of “neurons” that pass information to each other. By looking at lots of examples, the network gets better at making predictions or decisions—like telling if someone has heart disease based on their health data."
   ]
  },
  {
   "cell_type": "code",
   "execution_count": 1,
   "metadata": {},
   "outputs": [],
   "source": [
    "import numpy as np\n",
    "import pandas as pd\n",
    "import matplotlib.pyplot as plt\n",
    "import seaborn as sns\n",
    "from sklearn.metrics import accuracy_score, confusion_matrix, ConfusionMatrixDisplay\n",
    "from sklearn.model_selection import train_test_split\n",
    "from sklearn.preprocessing import MinMaxScaler,StandardScaler,LabelEncoder\n",
    "from mlxtend.plotting import plot_decision_regions\n",
    "from sklearn.feature_selection import SelectKBest\n",
    "from sklearn.feature_selection import chi2\n",
    "from sklearn.metrics import confusion_matrix, ConfusionMatrixDisplay\n",
    "from sklearn.metrics import classification_report"
   ]
  },
  {
   "cell_type": "markdown",
   "metadata": {},
   "source": [
    "## Our Task\n",
    "We will be predicting the occurrence of heart disease in patients. The use of the Neural Network will be able to capture complex regression tasks that our linear regression couldn't previously do.\n"
   ]
  },
  {
   "cell_type": "markdown",
   "id": "f66f75b2",
   "metadata": {},
   "source": [
    "##  Load and Preprocess the Hearts Dataset\n",
    "We will use the `hearts` dataset and classify a patient as either **Has Heart Disease**(label=1) or **Does not have Heart Disease**(label=0)\n",
    "\n",
    "We'll also drop any rows with missing values.\n",
    "\n",
    "## Normalize and Prepare Features\n",
    "Logistic regression works best when the input features are on a similar scale. We'll normalize the features to have mean 0 and standard deviation 1."
   ]
  },
  {
   "cell_type": "code",
   "execution_count": null,
   "metadata": {},
   "outputs": [
    {
     "data": {
      "text/plain": [
       "<bound method NDFrame.head of           Age  Sex  ChestPainType  RestingBP  Cholesterol  FastingBS  \\\n",
       "0   -1.433140    1              1   0.410909     0.825070          0   \n",
       "1   -0.478484    0              2   1.491752    -0.171961          0   \n",
       "2   -1.751359    1              1  -0.129513     0.770188          0   \n",
       "3   -0.584556    0              0   0.302825     0.139040          0   \n",
       "4    0.051881    1              2   0.951331    -0.034755          0   \n",
       "..        ...  ...            ...        ...          ...        ...   \n",
       "913 -0.902775    1              3  -1.210356     0.596393          0   \n",
       "914  1.536902    1              0   0.627078    -0.053049          1   \n",
       "915  0.370100    1              0  -0.129513    -0.620168          0   \n",
       "916  0.370100    0              1  -0.129513     0.340275          0   \n",
       "917 -1.645286    1              2   0.302825    -0.217696          0   \n",
       "\n",
       "     RestingECG     MaxHR  ExerciseAngina   Oldpeak  ST_Slope  HeartDisease  \n",
       "0             1  1.382928               0  0.295455         2             0  \n",
       "1             1  0.754157               0  0.409091         1             1  \n",
       "2             2 -1.525138               0  0.295455         2             0  \n",
       "3             1 -1.132156               1  0.465909         1             1  \n",
       "4             1 -0.581981               0  0.295455         2             0  \n",
       "..          ...       ...             ...       ...       ...           ...  \n",
       "913           1 -0.188999               0  0.431818         1             1  \n",
       "914           1  0.164684               0  0.681818         1             1  \n",
       "915           1 -0.857069               1  0.431818         1             1  \n",
       "916           0  1.461525               0  0.295455         1             1  \n",
       "917           1  1.422226               0  0.295455         2             0  \n",
       "\n",
       "[918 rows x 12 columns]>"
      ]
     },
     "execution_count": 2,
     "metadata": {},
     "output_type": "execute_result"
    }
   ],
   "source": [
    "# Load and process the heart dataset \n",
    "data = pd.read_csv(\"/Users/kene_2x/Desktop/CMOR 438: DS and Machine Learning/Untitled/Kene_CMOR_438_Spring_25/data/heart.csv\")\n",
    "hearts = data.copy(deep = True)\n",
    "\n",
    "le = LabelEncoder()#Label Encoding\n",
    "\n",
    "#Label Encode all Categorical data\n",
    "hearts['Sex'] = le.fit_transform(hearts['Sex'])\n",
    "hearts['ChestPainType'] = le.fit_transform(hearts['ChestPainType'])\n",
    "hearts['RestingECG'] = le.fit_transform(hearts['RestingECG'])\n",
    "hearts['ExerciseAngina'] = le.fit_transform(hearts['ExerciseAngina'])\n",
    "hearts['ST_Slope'] = le.fit_transform(hearts['ST_Slope'])\n",
    "\n",
    "mms = MinMaxScaler() # Normalization\n",
    "ss = StandardScaler() # Standardization\n",
    "\n",
    "#Normalize Oldpeak and Standardize the rest of the numerical data\n",
    "hearts['Oldpeak'] = mms.fit_transform(hearts[['Oldpeak']])\n",
    "hearts['Age'] = ss.fit_transform(hearts[['Age']])\n",
    "hearts['RestingBP'] = ss.fit_transform(hearts[['RestingBP']])\n",
    "hearts['Cholesterol'] = ss.fit_transform(hearts[['Cholesterol']])\n",
    "hearts['MaxHR'] = ss.fit_transform(hearts[['MaxHR']])\n",
    "hearts.head"
   ]
  },
  {
   "cell_type": "markdown",
   "metadata": {},
   "source": [
    "# Features Selection\n",
    "To better understand why we selected these specific features for classification, read the **Perceptron_hearts** file.\n",
    "\n",
    "We'll select the \"Age\", \"Oldpeak\", \"MaxHR\", \"ST_Slope\", \"ExerciseAngina\", \"Sex\",\"ChestPainType\",\"Cholesterol\", and \"FastingBS\" for classification.\n"
   ]
  },
  {
   "cell_type": "code",
   "execution_count": 3,
   "metadata": {},
   "outputs": [],
   "source": [
    "features = [\n",
    "    \"Age\", \"Oldpeak\", \"MaxHR\", \"ST_Slope\", \"ExerciseAngina\", \"Sex\", \"HeartDisease\",\"ChestPainType\",\"Cholesterol\",\"FastingBS\"\n",
    "]\n",
    "filtered_df= hearts[features].reset_index(drop=True)\n",
    "X = filtered_df[filtered_df.columns.drop(['HeartDisease'])].values\n",
    "y = filtered_df['HeartDisease'].values"
   ]
  },
  {
   "cell_type": "markdown",
   "id": "865d9f0d",
   "metadata": {},
   "source": [
    "## Splitting Data into Training and Test Sets\n",
    "\n",
    "We split our dataset into training and testing sets to evaluate model performance later."
   ]
  },
  {
   "cell_type": "code",
   "execution_count": 27,
   "metadata": {},
   "outputs": [],
   "source": [
    "#Split data into test and trainung data\n",
    "X_train, X_test, y_train, y_test = train_test_split(X, y, test_size=0.2, random_state=42)"
   ]
  },
  {
   "cell_type": "code",
   "execution_count": null,
   "metadata": {},
   "outputs": [],
   "source": [
    "import sys\n",
    "sys.path.append(\"../\")# allows the package to be seen"
   ]
  },
  {
   "cell_type": "markdown",
   "id": "987a47b5",
   "metadata": {},
   "source": [
    "## Implementation of the Neural Network\n",
    "\n",
    "Here we will be using the python package I created. That is my_ml.neural_network which can be found in my_ml folder"
   ]
  },
  {
   "cell_type": "code",
   "execution_count": 24,
   "metadata": {},
   "outputs": [
    {
     "name": "stdout",
     "output_type": "stream",
     "text": [
      "Initial Loss = 0.17638569898979378\n",
      "Epoch 1 Loss = 0.11186347300777824\n",
      "Epoch 2 Loss = 0.09972102705857705\n",
      "Epoch 3 Loss = 0.0942381195657953\n",
      "Epoch 4 Loss = 0.08945145109063259\n",
      "Epoch 5 Loss = 0.08535762933914295\n",
      "Epoch 6 Loss = 0.08187473552381949\n",
      "Epoch 7 Loss = 0.07891174751040739\n",
      "Epoch 8 Loss = 0.07638476583410593\n",
      "Epoch 9 Loss = 0.07421989550946306\n",
      "Epoch 10 Loss = 0.07235404190791667\n",
      "Epoch 11 Loss = 0.07073461527434029\n",
      "Epoch 12 Loss = 0.06931853447295246\n",
      "Epoch 13 Loss = 0.06807090418532176\n",
      "Epoch 14 Loss = 0.06696363895303349\n",
      "Epoch 15 Loss = 0.06597419026511968\n",
      "Epoch 16 Loss = 0.06508444501444081\n",
      "Epoch 17 Loss = 0.06427981042266163\n",
      "Epoch 18 Loss = 0.06354847325156335\n",
      "Epoch 19 Loss = 0.06288080989851724\n",
      "Epoch 20 Loss = 0.062268921502727496\n",
      "Epoch 21 Loss = 0.061706269902253315\n",
      "Epoch 22 Loss = 0.061187393619488106\n",
      "Epoch 23 Loss = 0.06070768670663303\n",
      "Epoch 24 Loss = 0.06026322665874178\n",
      "Epoch 25 Loss = 0.059850640484274825\n",
      "Epoch 26 Loss = 0.05946700038071234\n",
      "Epoch 27 Loss = 0.05910974234467089\n",
      "Epoch 28 Loss = 0.05877660252770113\n",
      "Epoch 29 Loss = 0.05846556730748508\n",
      "Epoch 30 Loss = 0.05817483394737945\n",
      "Epoch 31 Loss = 0.05790277942108559\n",
      "Epoch 32 Loss = 0.057647935527952415\n",
      "Epoch 33 Loss = 0.057408968852411875\n",
      "Epoch 34 Loss = 0.057184664454802164\n",
      "Epoch 35 Loss = 0.05697391244072178\n",
      "Epoch 36 Loss = 0.05677569675788426\n",
      "Epoch 37 Loss = 0.05658908572552177\n",
      "Epoch 38 Loss = 0.05641322392147221\n",
      "Epoch 39 Loss = 0.056247325143884176\n",
      "Epoch 40 Loss = 0.056090666234174844\n",
      "Epoch 41 Loss = 0.05594258160040841\n",
      "Epoch 42 Loss = 0.05580245831956968\n",
      "Epoch 43 Loss = 0.05566973172640153\n",
      "Epoch 44 Loss = 0.05554388141803878\n",
      "Epoch 45 Loss = 0.05542442761949603\n",
      "Epoch 46 Loss = 0.05531092786666493\n",
      "Epoch 47 Loss = 0.05520297397195442\n",
      "Epoch 48 Loss = 0.05510018924392622\n",
      "Epoch 49 Loss = 0.0550022259368768\n",
      "Epoch 50 Loss = 0.05490876290974845\n",
      "Epoch 51 Loss = 0.0548195034763679\n",
      "Epoch 52 Loss = 0.05473417343104143\n",
      "Epoch 53 Loss = 0.05465251923516139\n",
      "Epoch 54 Loss = 0.0545743063518119\n",
      "Epoch 55 Loss = 0.05449931771649443\n",
      "Epoch 56 Loss = 0.05442735233306522\n",
      "Epoch 57 Loss = 0.05435822398485227\n",
      "Epoch 58 Loss = 0.05429176005169176\n",
      "Epoch 59 Loss = 0.054227800424342436\n",
      "Epoch 60 Loss = 0.054166196508386825\n",
      "Epoch 61 Loss = 0.054106810310336866\n",
      "Epoch 62 Loss = 0.05404951359921855\n",
      "Epoch 63 Loss = 0.05399418713743783\n",
      "Epoch 64 Loss = 0.0539407199752086\n",
      "Epoch 65 Loss = 0.05388900880328092\n",
      "Epoch 66 Loss = 0.05383895735911878\n",
      "Epoch 67 Loss = 0.05379047588207254\n",
      "Epoch 68 Loss = 0.053743480613446575\n",
      "Epoch 69 Loss = 0.05369789333769646\n",
      "Epoch 70 Loss = 0.05365364096130133\n",
      "Epoch 71 Loss = 0.05361065512613902\n",
      "Epoch 72 Loss = 0.053568871854455025\n",
      "Epoch 73 Loss = 0.053528231222761416\n",
      "Epoch 74 Loss = 0.053488677062221136\n",
      "Epoch 75 Loss = 0.05345015668328233\n",
      "Epoch 76 Loss = 0.05341262062251391\n",
      "Epoch 77 Loss = 0.05337602240976887\n",
      "Epoch 78 Loss = 0.05334031835395984\n",
      "Epoch 79 Loss = 0.05330546734588007\n",
      "Epoch 80 Loss = 0.05327143067663254\n",
      "Epoch 81 Loss = 0.05323817187035951\n",
      "Epoch 82 Loss = 0.05320565653007034\n",
      "Epoch 83 Loss = 0.05317385219547387\n",
      "Epoch 84 Loss = 0.05314272821181215\n",
      "Epoch 85 Loss = 0.05311225560878173\n",
      "Epoch 86 Loss = 0.05308240698870462\n",
      "Epoch 87 Loss = 0.053053156423184034\n",
      "Epoch 88 Loss = 0.05302447935754712\n",
      "Epoch 89 Loss = 0.05299635252243548\n",
      "Epoch 90 Loss = 0.05296875385195818\n",
      "Epoch 91 Loss = 0.05294166240787515\n",
      "Epoch 92 Loss = 0.052915058309322124\n",
      "Epoch 93 Loss = 0.052888922667629484\n",
      "Epoch 94 Loss = 0.05286323752582823\n",
      "Epoch 95 Loss = 0.05283798580246859\n",
      "Epoch 96 Loss = 0.052813151239408655\n",
      "Epoch 97 Loss = 0.05278871835326091\n",
      "Epoch 98 Loss = 0.052764672390209655\n",
      "Epoch 99 Loss = 0.05274099928393628\n",
      "Epoch 100 Loss = 0.052717685616412484\n"
     ]
    }
   ],
   "source": [
    "from my_ml.neural_network import DenseNetwork\n",
    "import seaborn as sns\n",
    "\n",
    "sns.set_theme()\n",
    "input_size = X_train.shape[1] \n",
    "net = DenseNetwork(architecture=[input_size, 12, 1])\n",
    "net.train(X_train, y_train, lr=0.01, n_epochs=100)"
   ]
  },
  {
   "cell_type": "markdown",
   "metadata": {},
   "source": [
    "## Plot Training Loss Over Time"
   ]
  },
  {
   "cell_type": "code",
   "execution_count": 25,
   "metadata": {},
   "outputs": [
    {
     "data": {
      "image/png": "[encoded data removed]",
      "text/plain": [
       "<Figure size 640x480 with 1 Axes>"
      ]
     },
     "metadata": {},
     "output_type": "display_data"
    },
    {
     "name": "stdout",
     "output_type": "stream",
     "text": [
      "[0.17638569898979378, 0.11186347300777824, 0.09972102705857705, 0.0942381195657953, 0.08945145109063259, 0.08535762933914295, 0.08187473552381949, 0.07891174751040739, 0.07638476583410593, 0.07421989550946306, 0.07235404190791667, 0.07073461527434029, 0.06931853447295246, 0.06807090418532176, 0.06696363895303349, 0.06597419026511968, 0.06508444501444081, 0.06427981042266163, 0.06354847325156335, 0.06288080989851724, 0.062268921502727496, 0.061706269902253315, 0.061187393619488106, 0.06070768670663303, 0.06026322665874178, 0.059850640484274825, 0.05946700038071234, 0.05910974234467089, 0.05877660252770113, 0.05846556730748508, 0.05817483394737945, 0.05790277942108559, 0.057647935527952415, 0.057408968852411875, 0.057184664454802164, 0.05697391244072178, 0.05677569675788426, 0.05658908572552177, 0.05641322392147221, 0.056247325143884176, 0.056090666234174844, 0.05594258160040841, 0.05580245831956968, 0.05566973172640153, 0.05554388141803878, 0.05542442761949603, 0.05531092786666493, 0.05520297397195442, 0.05510018924392622, 0.0550022259368768, 0.05490876290974845, 0.0548195034763679, 0.05473417343104143, 0.05465251923516139, 0.0545743063518119, 0.05449931771649443, 0.05442735233306522, 0.05435822398485227, 0.05429176005169176, 0.054227800424342436, 0.054166196508386825, 0.054106810310336866, 0.05404951359921855, 0.05399418713743783, 0.0539407199752086, 0.05388900880328092, 0.05383895735911878, 0.05379047588207254, 0.053743480613446575, 0.05369789333769646, 0.05365364096130133, 0.05361065512613902, 0.053568871854455025, 0.053528231222761416, 0.053488677062221136, 0.05345015668328233, 0.05341262062251391, 0.05337602240976887, 0.05334031835395984, 0.05330546734588007, 0.05327143067663254, 0.05323817187035951, 0.05320565653007034, 0.05317385219547387, 0.05314272821181215, 0.05311225560878173, 0.05308240698870462, 0.053053156423184034, 0.05302447935754712, 0.05299635252243548, 0.05296875385195818, 0.05294166240787515, 0.052915058309322124, 0.052888922667629484, 0.05286323752582823, 0.05283798580246859, 0.052813151239408655, 0.05278871835326091, 0.052764672390209655, 0.05274099928393628, 0.052717685616412484]\n"
     ]
    }
   ],
   "source": [
    "errors = np.array(net.loss_history).flatten().tolist()\n",
    "plt.plot(errors)\n",
    "plt.title(\"Training Loss Over Epochs\")\n",
    "plt.xlabel(\"Epoch\")\n",
    "plt.ylabel(\"Mean Squared Error\")\n",
    "plt.grid(True)\n",
    "plt.show()\n",
    "\n",
    "print(np.array(net.loss_history).flatten().tolist())"
   ]
  },
  {
   "cell_type": "markdown",
   "id": "ff28426d",
   "metadata": {},
   "source": [
    "## Evaluate Model Performance\n",
    "\n",
    "We can calculate the MSE. From the value below, we can see that our mse is relatively small. This means our Neural Network predicts almost accurately the occurrence of heart disease in patients."
   ]
  },
  {
   "cell_type": "code",
   "execution_count": 26,
   "metadata": {},
   "outputs": [
    {
     "name": "stdout",
     "output_type": "stream",
     "text": [
      "Mean Squared Error: 0.1146\n"
     ]
    }
   ],
   "source": [
    "from sklearn.metrics import mean_squared_error\n",
    "# Compute MSE\n",
    "y_pred = np.array([net.predict(xi) for xi in X_test])\n",
    "mse = mean_squared_error(y_test, y_pred)\n",
    "\n",
    "print(f\"Mean Squared Error: {mse:.4f}\")"
   ]
  },
  {
   "cell_type": "markdown",
   "metadata": {},
   "source": [
    "## Conclusion\n",
    "As we can see, the neural network is better than the logistic regression at predicting the occurrence of heart disease in these patients. "
   ]
  }
 ],
 "metadata": {
  "kernelspec": {
   "display_name": "base",
   "language": "python",
   "name": "python3"
  },
  "language_info": {
   "codemirror_mode": {
    "name": "ipython",
    "version": 3
   },
   "file_extension": ".py",
   "mimetype": "text/x-python",
   "name": "python",
   "nbconvert_exporter": "python",
   "pygments_lexer": "ipython3",
   "version": "3.12.7"
  }
 },
 "nbformat": 4,
 "nbformat_minor": 2
}
