{
 "cells": [
  {
   "cell_type": "markdown",
   "id": "daf381d3",
   "metadata": {},
   "source": [
    "# Perceptron Implementation on Penguins Dataset\n",
    "This notebook demonstrates binary classification using the Perceptron algorithm.\n",
    "We classify between **Adelie** and **Gentoo** penguins using four numeric features."
   ]
  },
  {
   "cell_type": "code",
   "execution_count": null,
   "id": "a147585e",
   "metadata": {},
   "outputs": [],
   "source": [
    "import pandas as pd\n",
    "import numpy as np"
   ]
  },
  {
   "cell_type": "code",
   "execution_count": null,
   "id": "a916ce72",
   "metadata": {},
   "outputs": [],
   "source": [
    "# Load and clean the data\n",
    "penguins_df = pd.read_csv(\"penguins.csv\")\n",
    "penguins_df_clean = penguins_df.dropna()\n",
    "penguins_df_binary = penguins_df_clean[penguins_df_clean['species'].isin(['Adelie', 'Gentoo'])]\n",
    "penguins_df_binary['label'] = penguins_df_binary['species'].map({'Adelie': 0, 'Gentoo': 1})"
   ]
  },
  {
   "cell_type": "code",
   "execution_count": null,
   "id": "eeff15f6",
   "metadata": {},
   "outputs": [],
   "source": [
    "# Feature selection\n",
    "features = ['bill_length_mm', 'bill_depth_mm', 'flipper_length_mm', 'body_mass_g']\n",
    "X = penguins_df_binary[features].values\n",
    "y = penguins_df_binary['label'].values"
   ]
  },
  {
   "cell_type": "code",
   "execution_count": null,
   "id": "3f6187fc",
   "metadata": {},
   "outputs": [],
   "source": [
    "# Normalize and add bias\n",
    "X_mean = X.mean(axis=0)\n",
    "X_std = X.std(axis=0)\n",
    "X_norm = (X - X_mean) / X_std\n",
    "X_bias = np.c_[np.ones(X_norm.shape[0]), X_norm]"
   ]
  },
  {
   "cell_type": "code",
   "execution_count": null,
   "id": "16cd660d",
   "metadata": {},
   "outputs": [],
   "source": [
    "# Perceptron training function\n",
    "def perceptron_train(X, y, epochs=10):\n",
    "    weights = np.zeros(X.shape[1])\n",
    "    for epoch in range(epochs):\n",
    "        for i in range(X.shape[0]):\n",
    "            prediction = 1 if np.dot(weights, X[i]) > 0 else 0\n",
    "            error = y[i] - prediction\n",
    "            weights += error * X[i]\n",
    "    return weights\n",
    "\n",
    "final_weights = perceptron_train(X_bias, y, epochs=10)"
   ]
  },
  {
   "cell_type": "code",
   "execution_count": null,
   "id": "13f7d25a",
   "metadata": {},
   "outputs": [],
   "source": [
    "# Prediction function and accuracy\n",
    "def perceptron_predict(X, weights):\n",
    "    return np.where(np.dot(X, weights) > 0, 1, 0)\n",
    "\n",
    "predictions = perceptron_predict(X_bias, final_weights)\n",
    "accuracy = np.mean(predictions == y)\n",
    "print(f\"Accuracy: {accuracy:.2f}\")"
   ]
  }
 ],
 "metadata": {},
 "nbformat": 4,
 "nbformat_minor": 5
}
